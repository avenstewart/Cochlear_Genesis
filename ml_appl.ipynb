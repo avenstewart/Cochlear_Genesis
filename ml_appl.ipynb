{
 "cells": [
  {
   "cell_type": "code",
   "execution_count": 1,
   "id": "365f43f3-904a-40aa-be59-947fdf58cfc7",
   "metadata": {},
   "outputs": [],
   "source": [
    "from scipy.io import wavfile\n",
    "import numpy as np\n",
    "from statistics import mean\n",
    "\n",
    "import matplotlib\n",
    "import matplotlib.pyplot as plt\n",
    "\n",
    "import sklearn.model_selection as models\n",
    "import sklearn.neighbors as skkn\n",
    "import sklearn.linear_model as sklm\n",
    "import sklearn.gaussian_process as skgp\n",
    "\n",
    "import librosa\n",
    "import librosa.display\n",
    "\n",
    "import soundfile\n",
    "import IPython.display as ipd\n",
    "\n",
    "import time"
   ]
  },
  {
   "cell_type": "code",
   "execution_count": 2,
   "id": "5911d6d3-e422-4660-b985-2b87db5b23ee",
   "metadata": {},
   "outputs": [
    {
     "name": "stdout",
     "output_type": "stream",
     "text": [
      "Simulation samplerate: 20000\n",
      "Actual samplerate: 20000\n",
      "time length: 2.55465s\n",
      "Simulation data points: 51092\n",
      "Actual data points: 51093\n"
     ]
    }
   ],
   "source": [
    "#sim_samplerate, sim_data = wavfile.read(filename=\"samples/sim/sim_music_01.wav\", mmap=False)\n",
    "#act_samplerate, act_data = wavfile.read(filename=\"samples/actual/act_music_01.wav\", mmap=False)\n",
    "\n",
    "data_sr = 20000\n",
    "\n",
    "music_sim_data, m_sim_sr = librosa.load('samples/sim/sim_music_01.wav', sr=data_sr)\n",
    "music_act_data, m_act_sr = librosa.load('samples/actual/act_music_01.wav', sr=data_sr)\n",
    "vocal_sim_data, v_sim_sr = librosa.load('samples/sim/sim_human_voice_01.wav', sr=data_sr)\n",
    "vocal_act_data, v_act_sr = librosa.load('samples/actual/act_human_voice_01.wav', sr=data_sr)\n",
    "\n",
    "raw_length = vocal_act_data.shape[0]\n",
    "length_s = raw_length/v_act_sr\n",
    "\n",
    "print(f\"Simulation samplerate: {v_sim_sr}\")\n",
    "print(f\"Actual samplerate: {v_act_sr}\")\n",
    "\n",
    "print(f\"time length: {length_s}s\")\n",
    "print(f\"Simulation data points: {vocal_sim_data.shape[0]}\")\n",
    "print(f\"Actual data points: {vocal_act_data.shape[0]}\")"
   ]
  },
  {
   "cell_type": "code",
   "execution_count": 3,
   "id": "ccdede85-86ae-484d-9c9b-9f671fa127c0",
   "metadata": {},
   "outputs": [],
   "source": [
    "feature_size = 1024\n",
    "\n",
    "# each x,y set pair is one data point. each coordinate in each pair is a feature. \n",
    "\n",
    "# x_dataset = np.empty((int(raw_length/feature_size)+1, feature_size))\n",
    "# y_dataset = np.empty((int(raw_length/feature_size)+1, feature_size))\n",
    "\n",
    "# dset_ndx = 0\n",
    "\n",
    "# data_incr = np.arange(0, raw_length, feature_size, dtype=int)\n",
    "\n",
    "# for slc_start in data_incr:\n",
    "#     slc_end = slc_start+(feature_size)\n",
    "    \n",
    "#     #print(slc_start, slc_end)\n",
    "\n",
    "#     if slc_end > raw_length:\n",
    "#         break\n",
    "        \n",
    "#     x_dataset[dset_ndx] = vocal_sim_data[slc_start:slc_end]\n",
    "#     y_dataset[dset_ndx] = vocal_act_data[slc_start:slc_end]\n",
    "\n",
    "#     dset_ndx += 1\n",
    "    \n",
    "x_dataset = vocal_sim_data\n",
    "y_dataset = vocal_act_data[0:-1]\n",
    "\n",
    "def slice_raw_data_for_models(np_arr, feature_size):\n",
    "    output = []\n",
    "    for ndx in np.arange(0, np_arr.shape[0]-1, feature_size, dtype=int):\n",
    "        output.append(np_arr[ndx:ndx+feature_size])\n",
    "    output.pop(len(output)-1)\n",
    "    return output\n",
    "\n",
    "\n",
    "def print_plot_play(x, Fs, text=''):\n",
    "    \"\"\"1. Prints information about an audio singal, 2. plots the waveform, and 3. Creates player\n",
    "    \n",
    "    Notebook: C1/B_PythonAudio.ipynb\n",
    "    \n",
    "    Args: \n",
    "        x: Input signal\n",
    "        Fs: Sampling rate of x    \n",
    "        text: Text to print\n",
    "    \"\"\"\n",
    "    print('%s Fs = %d, x.shape = %s, x.dtype = %s' % (text, Fs, x.shape, x.dtype))\n",
    "    plt.figure(figsize=(8, 2))\n",
    "    plt.plot(x, color='gray')\n",
    "    plt.xlim([0, x.shape[0]])\n",
    "    plt.xlabel('Time (samples)')\n",
    "    plt.ylabel('Amplitude')\n",
    "    plt.tight_layout()\n",
    "    plt.show()\n",
    "    ipd.display(ipd.Audio(data=x, rate=Fs))\n",
    "\n",
    "x_dataset = slice_raw_data_for_models(vocal_sim_data, feature_size)\n",
    "y_dataset = slice_raw_data_for_models(vocal_act_data[:-1], feature_size)\n",
    "\n"
   ]
  },
  {
   "cell_type": "code",
   "execution_count": 4,
   "id": "107ba156-3eb9-4bff-b433-17ce0ae45a4a",
   "metadata": {},
   "outputs": [],
   "source": [
    "X_train, X_test, y_train, y_test = models.train_test_split(x_dataset, y_dataset, shuffle=False) # shuffled"
   ]
  },
  {
   "cell_type": "code",
   "execution_count": 63,
   "id": "d8fd1ed4-ae94-4b5f-8b25-ca8d0aff1bcf",
   "metadata": {},
   "outputs": [
    {
     "ename": "AttributeError",
     "evalue": "'list' object has no attribute 'shape'",
     "output_type": "error",
     "traceback": [
      "\u001b[0;31m---------------------------------------------------------------------------\u001b[0m",
      "\u001b[0;31mAttributeError\u001b[0m                            Traceback (most recent call last)",
      "Input \u001b[0;32mIn [63]\u001b[0m, in \u001b[0;36m<module>\u001b[0;34m\u001b[0m\n\u001b[0;32m----> 1\u001b[0m \u001b[38;5;28mprint\u001b[39m(\u001b[43mX_train\u001b[49m\u001b[38;5;241;43m.\u001b[39;49m\u001b[43mshape\u001b[49m)\n\u001b[1;32m      2\u001b[0m \u001b[38;5;28mprint\u001b[39m(y_train\u001b[38;5;241m.\u001b[39mshape)\n\u001b[1;32m      3\u001b[0m \u001b[38;5;28mprint\u001b[39m(X_test\u001b[38;5;241m.\u001b[39mshape)\n",
      "\u001b[0;31mAttributeError\u001b[0m: 'list' object has no attribute 'shape'"
     ]
    }
   ],
   "source": [
    "print(X_train.shape)\n",
    "print(y_train.shape)\n",
    "print(X_test.shape)\n",
    "print(y_test.shape)\n"
   ]
  },
  {
   "cell_type": "code",
   "execution_count": 13,
   "id": "a2ed1e0e-fe31-4903-8e38-30ee32dc168e",
   "metadata": {},
   "outputs": [
    {
     "name": "stdout",
     "output_type": "stream",
     "text": [
      "Train Score: 0.73\n",
      "Test Score: -0.11\n"
     ]
    }
   ],
   "source": [
    "# KNN model fitting, save results to wav file for human comparison\n",
    "#input_data = slice_raw_data_for_models(np_arr=vocal_act_data, feature_size=feature_size)\n",
    "#output_comp = slice_raw_data_for_models(np_arr=vocal_sim_data, feature_size=feature_size)\n",
    "\n",
    "# X_train = X_train.reshape(-1,1)\n",
    "# X_test = X_test.reshape(-1,1)\n",
    "# y_train = y_train.reshape(-1,1)\n",
    "# y_test = y_test.reshape(-1,1)\n",
    "\n",
    "N = 2\n",
    "\n",
    "time_start = time.time()\n",
    "mdl = skkn.KNeighborsRegressor(n_neighbors=N)\n",
    "mdl.fit(X_train, y_train)\n",
    "\n",
    "# results = np.empty([0, len(vocal_act_data)])\n",
    "\n",
    "# for dp in input_data:\n",
    "#    pdict = mdl.predict([dp])\n",
    "#    for ft in pdict[0]:\n",
    "#        results = np.append(results, ft)\n",
    "\n",
    "time_end = time.time()\n",
    "result_time = time_end - time_start\n",
    "test_predict = mdl.predict(X_test)\n",
    "result = []\n",
    "for dp in test_predict:\n",
    "    result.append(dp[0])\n",
    "    \n",
    "#print(f\"KNN model application complete. Elapsed: {result_time}s\")\n",
    "print(\"Train Score: {:.2f}\".format(mdl.score(X_train, y_train)))\n",
    "print(\"Test Score: {:.2f}\".format(mdl.score(X_test, y_test)))\n",
    "\n",
    "# print_plot_play(X_test, data_sr, text=f\"Input data\")\n",
    "# print_plot_play(test_predict, data_sr, text=f\"KNN Prediction, N={N}\")\n",
    "# print_plot_play(y_test, data_sr, text=\"Expected result\")\n",
    "\n",
    "# soundfile.write(\"test.wav\", test_predict, data_sr)"
   ]
  },
  {
   "cell_type": "code",
   "execution_count": 15,
   "id": "b972be96-1c3b-467c-9eb0-b74eb7635e11",
   "metadata": {},
   "outputs": [
    {
     "ename": "ValueError",
     "evalue": "x and y must be the same size",
     "output_type": "error",
     "traceback": [
      "\u001b[0;31m---------------------------------------------------------------------------\u001b[0m",
      "\u001b[0;31mValueError\u001b[0m                                Traceback (most recent call last)",
      "Input \u001b[0;32mIn [15]\u001b[0m, in \u001b[0;36m<module>\u001b[0;34m\u001b[0m\n\u001b[1;32m     12\u001b[0m     res \u001b[38;5;241m=\u001b[39m mean(dataset)\n\u001b[1;32m     13\u001b[0m     sim_points\u001b[38;5;241m.\u001b[39mappend(res)\n\u001b[0;32m---> 15\u001b[0m \u001b[43mplt\u001b[49m\u001b[38;5;241;43m.\u001b[39;49m\u001b[43mscatter\u001b[49m\u001b[43m(\u001b[49m\u001b[43mact_points\u001b[49m\u001b[43m,\u001b[49m\u001b[43m \u001b[49m\u001b[43mx_indexes\u001b[49m\u001b[43m)\u001b[49m\n\u001b[1;32m     16\u001b[0m plt\u001b[38;5;241m.\u001b[39mscatter(sim_points, y_indexes)\n",
      "File \u001b[0;32m/opt/conda/lib/python3.9/site-packages/matplotlib/pyplot.py:2807\u001b[0m, in \u001b[0;36mscatter\u001b[0;34m(x, y, s, c, marker, cmap, norm, vmin, vmax, alpha, linewidths, edgecolors, plotnonfinite, data, **kwargs)\u001b[0m\n\u001b[1;32m   2802\u001b[0m \u001b[38;5;129m@_copy_docstring_and_deprecators\u001b[39m(Axes\u001b[38;5;241m.\u001b[39mscatter)\n\u001b[1;32m   2803\u001b[0m \u001b[38;5;28;01mdef\u001b[39;00m \u001b[38;5;21mscatter\u001b[39m(\n\u001b[1;32m   2804\u001b[0m         x, y, s\u001b[38;5;241m=\u001b[39m\u001b[38;5;28;01mNone\u001b[39;00m, c\u001b[38;5;241m=\u001b[39m\u001b[38;5;28;01mNone\u001b[39;00m, marker\u001b[38;5;241m=\u001b[39m\u001b[38;5;28;01mNone\u001b[39;00m, cmap\u001b[38;5;241m=\u001b[39m\u001b[38;5;28;01mNone\u001b[39;00m, norm\u001b[38;5;241m=\u001b[39m\u001b[38;5;28;01mNone\u001b[39;00m,\n\u001b[1;32m   2805\u001b[0m         vmin\u001b[38;5;241m=\u001b[39m\u001b[38;5;28;01mNone\u001b[39;00m, vmax\u001b[38;5;241m=\u001b[39m\u001b[38;5;28;01mNone\u001b[39;00m, alpha\u001b[38;5;241m=\u001b[39m\u001b[38;5;28;01mNone\u001b[39;00m, linewidths\u001b[38;5;241m=\u001b[39m\u001b[38;5;28;01mNone\u001b[39;00m, \u001b[38;5;241m*\u001b[39m,\n\u001b[1;32m   2806\u001b[0m         edgecolors\u001b[38;5;241m=\u001b[39m\u001b[38;5;28;01mNone\u001b[39;00m, plotnonfinite\u001b[38;5;241m=\u001b[39m\u001b[38;5;28;01mFalse\u001b[39;00m, data\u001b[38;5;241m=\u001b[39m\u001b[38;5;28;01mNone\u001b[39;00m, \u001b[38;5;241m*\u001b[39m\u001b[38;5;241m*\u001b[39mkwargs):\n\u001b[0;32m-> 2807\u001b[0m     __ret \u001b[38;5;241m=\u001b[39m \u001b[43mgca\u001b[49m\u001b[43m(\u001b[49m\u001b[43m)\u001b[49m\u001b[38;5;241;43m.\u001b[39;49m\u001b[43mscatter\u001b[49m\u001b[43m(\u001b[49m\n\u001b[1;32m   2808\u001b[0m \u001b[43m        \u001b[49m\u001b[43mx\u001b[49m\u001b[43m,\u001b[49m\u001b[43m \u001b[49m\u001b[43my\u001b[49m\u001b[43m,\u001b[49m\u001b[43m \u001b[49m\u001b[43ms\u001b[49m\u001b[38;5;241;43m=\u001b[39;49m\u001b[43ms\u001b[49m\u001b[43m,\u001b[49m\u001b[43m \u001b[49m\u001b[43mc\u001b[49m\u001b[38;5;241;43m=\u001b[39;49m\u001b[43mc\u001b[49m\u001b[43m,\u001b[49m\u001b[43m \u001b[49m\u001b[43mmarker\u001b[49m\u001b[38;5;241;43m=\u001b[39;49m\u001b[43mmarker\u001b[49m\u001b[43m,\u001b[49m\u001b[43m \u001b[49m\u001b[43mcmap\u001b[49m\u001b[38;5;241;43m=\u001b[39;49m\u001b[43mcmap\u001b[49m\u001b[43m,\u001b[49m\u001b[43m \u001b[49m\u001b[43mnorm\u001b[49m\u001b[38;5;241;43m=\u001b[39;49m\u001b[43mnorm\u001b[49m\u001b[43m,\u001b[49m\n\u001b[1;32m   2809\u001b[0m \u001b[43m        \u001b[49m\u001b[43mvmin\u001b[49m\u001b[38;5;241;43m=\u001b[39;49m\u001b[43mvmin\u001b[49m\u001b[43m,\u001b[49m\u001b[43m \u001b[49m\u001b[43mvmax\u001b[49m\u001b[38;5;241;43m=\u001b[39;49m\u001b[43mvmax\u001b[49m\u001b[43m,\u001b[49m\u001b[43m \u001b[49m\u001b[43malpha\u001b[49m\u001b[38;5;241;43m=\u001b[39;49m\u001b[43malpha\u001b[49m\u001b[43m,\u001b[49m\u001b[43m \u001b[49m\u001b[43mlinewidths\u001b[49m\u001b[38;5;241;43m=\u001b[39;49m\u001b[43mlinewidths\u001b[49m\u001b[43m,\u001b[49m\n\u001b[1;32m   2810\u001b[0m \u001b[43m        \u001b[49m\u001b[43medgecolors\u001b[49m\u001b[38;5;241;43m=\u001b[39;49m\u001b[43medgecolors\u001b[49m\u001b[43m,\u001b[49m\u001b[43m \u001b[49m\u001b[43mplotnonfinite\u001b[49m\u001b[38;5;241;43m=\u001b[39;49m\u001b[43mplotnonfinite\u001b[49m\u001b[43m,\u001b[49m\n\u001b[1;32m   2811\u001b[0m \u001b[43m        \u001b[49m\u001b[38;5;241;43m*\u001b[39;49m\u001b[38;5;241;43m*\u001b[39;49m\u001b[43m(\u001b[49m\u001b[43m{\u001b[49m\u001b[38;5;124;43m\"\u001b[39;49m\u001b[38;5;124;43mdata\u001b[39;49m\u001b[38;5;124;43m\"\u001b[39;49m\u001b[43m:\u001b[49m\u001b[43m \u001b[49m\u001b[43mdata\u001b[49m\u001b[43m}\u001b[49m\u001b[43m \u001b[49m\u001b[38;5;28;43;01mif\u001b[39;49;00m\u001b[43m \u001b[49m\u001b[43mdata\u001b[49m\u001b[43m \u001b[49m\u001b[38;5;129;43;01mis\u001b[39;49;00m\u001b[43m \u001b[49m\u001b[38;5;129;43;01mnot\u001b[39;49;00m\u001b[43m \u001b[49m\u001b[38;5;28;43;01mNone\u001b[39;49;00m\u001b[43m \u001b[49m\u001b[38;5;28;43;01melse\u001b[39;49;00m\u001b[43m \u001b[49m\u001b[43m{\u001b[49m\u001b[43m}\u001b[49m\u001b[43m)\u001b[49m\u001b[43m,\u001b[49m\u001b[43m \u001b[49m\u001b[38;5;241;43m*\u001b[39;49m\u001b[38;5;241;43m*\u001b[39;49m\u001b[43mkwargs\u001b[49m\u001b[43m)\u001b[49m\n\u001b[1;32m   2812\u001b[0m     sci(__ret)\n\u001b[1;32m   2813\u001b[0m     \u001b[38;5;28;01mreturn\u001b[39;00m __ret\n",
      "File \u001b[0;32m/opt/conda/lib/python3.9/site-packages/matplotlib/__init__.py:1412\u001b[0m, in \u001b[0;36m_preprocess_data.<locals>.inner\u001b[0;34m(ax, data, *args, **kwargs)\u001b[0m\n\u001b[1;32m   1409\u001b[0m \u001b[38;5;129m@functools\u001b[39m\u001b[38;5;241m.\u001b[39mwraps(func)\n\u001b[1;32m   1410\u001b[0m \u001b[38;5;28;01mdef\u001b[39;00m \u001b[38;5;21minner\u001b[39m(ax, \u001b[38;5;241m*\u001b[39margs, data\u001b[38;5;241m=\u001b[39m\u001b[38;5;28;01mNone\u001b[39;00m, \u001b[38;5;241m*\u001b[39m\u001b[38;5;241m*\u001b[39mkwargs):\n\u001b[1;32m   1411\u001b[0m     \u001b[38;5;28;01mif\u001b[39;00m data \u001b[38;5;129;01mis\u001b[39;00m \u001b[38;5;28;01mNone\u001b[39;00m:\n\u001b[0;32m-> 1412\u001b[0m         \u001b[38;5;28;01mreturn\u001b[39;00m \u001b[43mfunc\u001b[49m\u001b[43m(\u001b[49m\u001b[43max\u001b[49m\u001b[43m,\u001b[49m\u001b[43m \u001b[49m\u001b[38;5;241;43m*\u001b[39;49m\u001b[38;5;28;43mmap\u001b[39;49m\u001b[43m(\u001b[49m\u001b[43msanitize_sequence\u001b[49m\u001b[43m,\u001b[49m\u001b[43m \u001b[49m\u001b[43margs\u001b[49m\u001b[43m)\u001b[49m\u001b[43m,\u001b[49m\u001b[43m \u001b[49m\u001b[38;5;241;43m*\u001b[39;49m\u001b[38;5;241;43m*\u001b[39;49m\u001b[43mkwargs\u001b[49m\u001b[43m)\u001b[49m\n\u001b[1;32m   1414\u001b[0m     bound \u001b[38;5;241m=\u001b[39m new_sig\u001b[38;5;241m.\u001b[39mbind(ax, \u001b[38;5;241m*\u001b[39margs, \u001b[38;5;241m*\u001b[39m\u001b[38;5;241m*\u001b[39mkwargs)\n\u001b[1;32m   1415\u001b[0m     auto_label \u001b[38;5;241m=\u001b[39m (bound\u001b[38;5;241m.\u001b[39marguments\u001b[38;5;241m.\u001b[39mget(label_namer)\n\u001b[1;32m   1416\u001b[0m                   \u001b[38;5;129;01mor\u001b[39;00m bound\u001b[38;5;241m.\u001b[39mkwargs\u001b[38;5;241m.\u001b[39mget(label_namer))\n",
      "File \u001b[0;32m/opt/conda/lib/python3.9/site-packages/matplotlib/axes/_axes.py:4369\u001b[0m, in \u001b[0;36mAxes.scatter\u001b[0;34m(self, x, y, s, c, marker, cmap, norm, vmin, vmax, alpha, linewidths, edgecolors, plotnonfinite, **kwargs)\u001b[0m\n\u001b[1;32m   4367\u001b[0m y \u001b[38;5;241m=\u001b[39m np\u001b[38;5;241m.\u001b[39mma\u001b[38;5;241m.\u001b[39mravel(y)\n\u001b[1;32m   4368\u001b[0m \u001b[38;5;28;01mif\u001b[39;00m x\u001b[38;5;241m.\u001b[39msize \u001b[38;5;241m!=\u001b[39m y\u001b[38;5;241m.\u001b[39msize:\n\u001b[0;32m-> 4369\u001b[0m     \u001b[38;5;28;01mraise\u001b[39;00m \u001b[38;5;167;01mValueError\u001b[39;00m(\u001b[38;5;124m\"\u001b[39m\u001b[38;5;124mx and y must be the same size\u001b[39m\u001b[38;5;124m\"\u001b[39m)\n\u001b[1;32m   4371\u001b[0m \u001b[38;5;28;01mif\u001b[39;00m s \u001b[38;5;129;01mis\u001b[39;00m \u001b[38;5;28;01mNone\u001b[39;00m:\n\u001b[1;32m   4372\u001b[0m     s \u001b[38;5;241m=\u001b[39m (\u001b[38;5;241m20\u001b[39m \u001b[38;5;28;01mif\u001b[39;00m rcParams[\u001b[38;5;124m'\u001b[39m\u001b[38;5;124m_internal.classic_mode\u001b[39m\u001b[38;5;124m'\u001b[39m] \u001b[38;5;28;01melse\u001b[39;00m\n\u001b[1;32m   4373\u001b[0m          rcParams[\u001b[38;5;124m'\u001b[39m\u001b[38;5;124mlines.markersize\u001b[39m\u001b[38;5;124m'\u001b[39m] \u001b[38;5;241m*\u001b[39m\u001b[38;5;241m*\u001b[39m \u001b[38;5;241m2.0\u001b[39m)\n",
      "\u001b[0;31mValueError\u001b[0m: x and y must be the same size"
     ]
    },
    {
     "data": {
      "image/png": "[encoded data removed]",
      "text/plain": [
       "<Figure size 432x288 with 1 Axes>"
      ]
     },
     "metadata": {
      "needs_background": "light"
     },
     "output_type": "display_data"
    }
   ],
   "source": [
    "#fig, axes = plt.subplots(1, 3, figsize=(10, 10))\n",
    "x_indexes = np.arange(0, 845)\n",
    "y_indexes = np.arange(0, 845)\n",
    "\n",
    "act_points = []\n",
    "for dataset in X_train:\n",
    "    res = mean(dataset)\n",
    "    act_points.append(res)\n",
    "    \n",
    "sim_points = []\n",
    "for dataset in y_train:\n",
    "    res = mean(dataset)\n",
    "    sim_points.append(res)\n",
    "    \n",
    "plt.scatter(act_points, x_indexes)\n",
    "plt.scatter(sim_points, y_indexes)"
   ]
  },
  {
   "cell_type": "code",
   "execution_count": 5,
   "id": "1badb6d1-11fc-4ea9-9138-a58c705504a1",
   "metadata": {},
   "outputs": [
    {
     "name": "stdout",
     "output_type": "stream",
     "text": [
      "Linear Regression model application complete. Elapsed: 0.07355833053588867s\n",
      "Train Score: 1.00\n",
      "Test Score: -0.82\n"
     ]
    }
   ],
   "source": [
    "# Linear Regression model fitting, save results to wav file for human comparison\n",
    "\n",
    "time_start = time.time()\n",
    "mdl = sklm.LinearRegression()\n",
    "mdl.fit(X_train, y_train)\n",
    "\n",
    "test_predict = mdl.predict(X_test)\n",
    "result = []\n",
    "for dp in test_predict:\n",
    "    result.append(dp[0])\n",
    "    \n",
    "time_end = time.time()\n",
    "result_time = time_end - time_start\n",
    "print(f\"Linear Regression model application complete. Elapsed: {result_time}s\")\n",
    "print(\"Train Score: {:.2f}\".format(mdl.score(X_train, y_train)))\n",
    "print(\"Test Score: {:.2f}\".format(mdl.score(X_test, y_test)))\n",
    "\n",
    "#print_plot_play(results, data_sr, text=f\"Linear Regression Prediction\")\n",
    "#print_plot_play(sim2_data, data_sr, text=\"Simulation Comparison\")"
   ]
  },
  {
   "cell_type": "code",
   "execution_count": 150,
   "id": "54894f1f-8e63-46bc-a6af-01e01a14bb1b",
   "metadata": {},
   "outputs": [],
   "source": [
    "# ridge regression = failure on act2 raw\n",
    "# RidgeCV regression = failure on act2 raw\n",
    "# Lasso regression = failure on act2 raw\n",
    "# NN radius model = failure on act2 raw\n"
   ]
  },
  {
   "cell_type": "code",
   "execution_count": 12,
   "id": "682540bf-b41f-4217-9945-b871ae09bf9f",
   "metadata": {},
   "outputs": [
    {
     "name": "stdout",
     "output_type": "stream",
     "text": [
      "Gaussian model application complete. Elapsed: 0.010788917541503906s\n",
      "Train Score: 0.14\n",
      "Test Score: -0.11\n"
     ]
    }
   ],
   "source": [
    "# Gaussian Process model fitting, save results to wav file for human comparison\n",
    "time_start = time.time()\n",
    "mdl = skgp.GaussianProcessRegressor(alpha=10, )\n",
    "mdl.fit(X_train, y_train)\n",
    "\n",
    "test_predict = mdl.predict(X_test)\n",
    "result = []\n",
    "for dp in test_predict:\n",
    "    result.append(dp[0])\n",
    "\n",
    "time_end = time.time()\n",
    "result_time = time_end - time_start\n",
    "print(f\"Gaussian model application complete. Elapsed: {result_time}s\")\n",
    "print(\"Train Score: {:.2f}\".format(mdl.score(X_train, y_train)))\n",
    "print(\"Test Score: {:.2f}\".format(mdl.score(X_test, y_test)))\n",
    "\n",
    "# print_plot_play(results, data_sr, text=f\"Gaussian Prediction, N={N}\")\n",
    "# print_plot_play(sim2_data, data_sr, text=\"Simulation Comparison\")"
   ]
  },
  {
   "cell_type": "code",
   "execution_count": null,
   "id": "149365fc-854d-43ed-9c97-08e3d90ded61",
   "metadata": {},
   "outputs": [],
   "source": []
  }
 ],
 "metadata": {
  "kernelspec": {
   "display_name": "Python 3 (ipykernel)",
   "language": "python",
   "name": "python3"
  },
  "language_info": {
   "codemirror_mode": {
    "name": "ipython",
    "version": 3
   },
   "file_extension": ".py",
   "mimetype": "text/x-python",
   "name": "python",
   "nbconvert_exporter": "python",
   "pygments_lexer": "ipython3",
   "version": "3.9.7"
  }
 },
 "nbformat": 4,
 "nbformat_minor": 5
}
